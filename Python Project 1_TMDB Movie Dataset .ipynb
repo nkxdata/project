{
 "cells": [
  {
   "cell_type": "markdown",
   "metadata": {},
   "source": [
    "# Project 1: TMDB Movie Dataset"
   ]
  },
  {
   "cell_type": "markdown",
   "metadata": {},
   "source": [
    "This is my first mini side project.The objective of the project is to get more practice in the following: \n",
    "<br>\n",
    "<br>\n",
    "1) Defining analytic questions\n",
    "<br>\n",
    "2) Exploratory Data Analysis\n",
    "<br>\n",
    "3) Using Pandas / Dictionaries\n",
    "<br>\n",
    "\n",
    "Key takeaways and learning points from this project can be found at the end of this document.\n",
    "\n",
    "Dataset Source: TMDB 5000 Movies - https://www.kaggle.com/tmdb/tmdb-movie-metadata#tmdb_5000_movies.csv\n",
    "<br>\n"
   ]
  },
  {
   "cell_type": "markdown",
   "metadata": {},
   "source": [
    "# Questions"
   ]
  },
  {
   "cell_type": "markdown",
   "metadata": {},
   "source": [
    "1) How many movies are released each year from 1995 to 2016 (inclusive)? Which year has the highest number of movie releases? \n",
    "<br>\n",
    "2) How many movies in the Adventure genre is released between 2014 and 2017? \n",
    "<br>\n",
    "3) What are the top 10 popular movies (based on popularity score) in 2015? \n",
    "<br>\n",
    "4) What is the mean budget for Comedy movies in 2016? \n",
    "<br>\n",
    "5) How many movies in 2015 and 2016 have a runtime between 90 and 120 minutes? \n",
    "<br>\n",
    "6) Is there a relationship between popularity and revenue? \n",
    "<br>\n",
    "\n",
    " "
   ]
  },
  {
   "cell_type": "markdown",
   "metadata": {},
   "source": [
    "<b>Import CSV File</b>"
   ]
  },
  {
   "cell_type": "code",
   "execution_count": 53,
   "metadata": {},
   "outputs": [],
   "source": [
    "#Import and Read File \n",
    "import pandas as pd\n",
    "df = pd.read_csv('https://github.com/nkxdata/project/raw/master/dataset/tmdb_5000_movies.csv')\n",
    "\n",
    "# df['release_date'] = pd.to_datetime(df['release_date']).apply(lambda x: x.date())\n",
    "json_columns = ['genres', 'keywords', 'production_countries', 'production_companies', 'spoken_languages']\n",
    "for column in json_columns:\n",
    "    df[column] = df[column].apply(json.loads)"
   ]
  },
  {
   "cell_type": "code",
   "execution_count": 54,
   "metadata": {},
   "outputs": [
    {
     "data": {
      "text/html": [
       "<div>\n",
       "<style scoped>\n",
       "    .dataframe tbody tr th:only-of-type {\n",
       "        vertical-align: middle;\n",
       "    }\n",
       "\n",
       "    .dataframe tbody tr th {\n",
       "        vertical-align: top;\n",
       "    }\n",
       "\n",
       "    .dataframe thead th {\n",
       "        text-align: right;\n",
       "    }\n",
       "</style>\n",
       "<table border=\"1\" class=\"dataframe\">\n",
       "  <thead>\n",
       "    <tr style=\"text-align: right;\">\n",
       "      <th></th>\n",
       "      <th>budget</th>\n",
       "      <th>genres</th>\n",
       "      <th>homepage</th>\n",
       "      <th>id</th>\n",
       "      <th>keywords</th>\n",
       "      <th>original_language</th>\n",
       "      <th>original_title</th>\n",
       "      <th>overview</th>\n",
       "      <th>popularity</th>\n",
       "      <th>production_companies</th>\n",
       "      <th>production_countries</th>\n",
       "      <th>release_date</th>\n",
       "      <th>revenue</th>\n",
       "      <th>runtime</th>\n",
       "      <th>spoken_languages</th>\n",
       "      <th>status</th>\n",
       "      <th>tagline</th>\n",
       "      <th>title</th>\n",
       "      <th>vote_average</th>\n",
       "      <th>vote_count</th>\n",
       "    </tr>\n",
       "  </thead>\n",
       "  <tbody>\n",
       "    <tr>\n",
       "      <th>0</th>\n",
       "      <td>237000000</td>\n",
       "      <td>[{u'id': 28, u'name': u'Action'}, {u'id': 12, ...</td>\n",
       "      <td>http://www.avatarmovie.com/</td>\n",
       "      <td>19995</td>\n",
       "      <td>[{u'id': 1463, u'name': u'culture clash'}, {u'...</td>\n",
       "      <td>en</td>\n",
       "      <td>Avatar</td>\n",
       "      <td>In the 22nd century, a paraplegic Marine is di...</td>\n",
       "      <td>150.437577</td>\n",
       "      <td>[{u'name': u'Ingenious Film Partners', u'id': ...</td>\n",
       "      <td>[{u'iso_3166_1': u'US', u'name': u'United Stat...</td>\n",
       "      <td>2009-12-10</td>\n",
       "      <td>2787965087</td>\n",
       "      <td>162.0</td>\n",
       "      <td>[{u'iso_639_1': u'en', u'name': u'English'}, {...</td>\n",
       "      <td>Released</td>\n",
       "      <td>Enter the World of Pandora.</td>\n",
       "      <td>Avatar</td>\n",
       "      <td>7.2</td>\n",
       "      <td>11800</td>\n",
       "    </tr>\n",
       "    <tr>\n",
       "      <th>1</th>\n",
       "      <td>300000000</td>\n",
       "      <td>[{u'id': 12, u'name': u'Adventure'}, {u'id': 1...</td>\n",
       "      <td>http://disney.go.com/disneypictures/pirates/</td>\n",
       "      <td>285</td>\n",
       "      <td>[{u'id': 270, u'name': u'ocean'}, {u'id': 726,...</td>\n",
       "      <td>en</td>\n",
       "      <td>Pirates of the Caribbean: At World's End</td>\n",
       "      <td>Captain Barbossa, long believed to be dead, ha...</td>\n",
       "      <td>139.082615</td>\n",
       "      <td>[{u'name': u'Walt Disney Pictures', u'id': 2},...</td>\n",
       "      <td>[{u'iso_3166_1': u'US', u'name': u'United Stat...</td>\n",
       "      <td>2007-05-19</td>\n",
       "      <td>961000000</td>\n",
       "      <td>169.0</td>\n",
       "      <td>[{u'iso_639_1': u'en', u'name': u'English'}]</td>\n",
       "      <td>Released</td>\n",
       "      <td>At the end of the world, the adventure begins.</td>\n",
       "      <td>Pirates of the Caribbean: At World's End</td>\n",
       "      <td>6.9</td>\n",
       "      <td>4500</td>\n",
       "    </tr>\n",
       "    <tr>\n",
       "      <th>2</th>\n",
       "      <td>245000000</td>\n",
       "      <td>[{u'id': 28, u'name': u'Action'}, {u'id': 12, ...</td>\n",
       "      <td>http://www.sonypictures.com/movies/spectre/</td>\n",
       "      <td>206647</td>\n",
       "      <td>[{u'id': 470, u'name': u'spy'}, {u'id': 818, u...</td>\n",
       "      <td>en</td>\n",
       "      <td>Spectre</td>\n",
       "      <td>A cryptic message from Bond’s past sends him o...</td>\n",
       "      <td>107.376788</td>\n",
       "      <td>[{u'name': u'Columbia Pictures', u'id': 5}, {u...</td>\n",
       "      <td>[{u'iso_3166_1': u'GB', u'name': u'United King...</td>\n",
       "      <td>2015-10-26</td>\n",
       "      <td>880674609</td>\n",
       "      <td>148.0</td>\n",
       "      <td>[{u'iso_639_1': u'fr', u'name': u'Français'}, ...</td>\n",
       "      <td>Released</td>\n",
       "      <td>A Plan No One Escapes</td>\n",
       "      <td>Spectre</td>\n",
       "      <td>6.3</td>\n",
       "      <td>4466</td>\n",
       "    </tr>\n",
       "  </tbody>\n",
       "</table>\n",
       "</div>"
      ],
      "text/plain": [
       "      budget                                             genres  \\\n",
       "0  237000000  [{u'id': 28, u'name': u'Action'}, {u'id': 12, ...   \n",
       "1  300000000  [{u'id': 12, u'name': u'Adventure'}, {u'id': 1...   \n",
       "2  245000000  [{u'id': 28, u'name': u'Action'}, {u'id': 12, ...   \n",
       "\n",
       "                                       homepage      id  \\\n",
       "0                   http://www.avatarmovie.com/   19995   \n",
       "1  http://disney.go.com/disneypictures/pirates/     285   \n",
       "2   http://www.sonypictures.com/movies/spectre/  206647   \n",
       "\n",
       "                                            keywords original_language  \\\n",
       "0  [{u'id': 1463, u'name': u'culture clash'}, {u'...                en   \n",
       "1  [{u'id': 270, u'name': u'ocean'}, {u'id': 726,...                en   \n",
       "2  [{u'id': 470, u'name': u'spy'}, {u'id': 818, u...                en   \n",
       "\n",
       "                             original_title  \\\n",
       "0                                    Avatar   \n",
       "1  Pirates of the Caribbean: At World's End   \n",
       "2                                   Spectre   \n",
       "\n",
       "                                            overview  popularity  \\\n",
       "0  In the 22nd century, a paraplegic Marine is di...  150.437577   \n",
       "1  Captain Barbossa, long believed to be dead, ha...  139.082615   \n",
       "2  A cryptic message from Bond’s past sends him o...  107.376788   \n",
       "\n",
       "                                production_companies  \\\n",
       "0  [{u'name': u'Ingenious Film Partners', u'id': ...   \n",
       "1  [{u'name': u'Walt Disney Pictures', u'id': 2},...   \n",
       "2  [{u'name': u'Columbia Pictures', u'id': 5}, {u...   \n",
       "\n",
       "                                production_countries release_date     revenue  \\\n",
       "0  [{u'iso_3166_1': u'US', u'name': u'United Stat...   2009-12-10  2787965087   \n",
       "1  [{u'iso_3166_1': u'US', u'name': u'United Stat...   2007-05-19   961000000   \n",
       "2  [{u'iso_3166_1': u'GB', u'name': u'United King...   2015-10-26   880674609   \n",
       "\n",
       "   runtime                                   spoken_languages    status  \\\n",
       "0    162.0  [{u'iso_639_1': u'en', u'name': u'English'}, {...  Released   \n",
       "1    169.0       [{u'iso_639_1': u'en', u'name': u'English'}]  Released   \n",
       "2    148.0  [{u'iso_639_1': u'fr', u'name': u'Français'}, ...  Released   \n",
       "\n",
       "                                          tagline  \\\n",
       "0                     Enter the World of Pandora.   \n",
       "1  At the end of the world, the adventure begins.   \n",
       "2                           A Plan No One Escapes   \n",
       "\n",
       "                                      title  vote_average  vote_count  \n",
       "0                                    Avatar           7.2       11800  \n",
       "1  Pirates of the Caribbean: At World's End           6.9        4500  \n",
       "2                                   Spectre           6.3        4466  "
      ]
     },
     "execution_count": 54,
     "metadata": {},
     "output_type": "execute_result"
    }
   ],
   "source": [
    "df.head(3)"
   ]
  },
  {
   "cell_type": "markdown",
   "metadata": {},
   "source": [
    "<b>1) How many movies are released each year from 1995 to 2016 (inclusive)? Which year has the highest number of movie releases? <b>"
   ]
  },
  {
   "cell_type": "code",
   "execution_count": 85,
   "metadata": {},
   "outputs": [
    {
     "data": {
      "text/html": [
       "<div>\n",
       "<style scoped>\n",
       "    .dataframe tbody tr th:only-of-type {\n",
       "        vertical-align: middle;\n",
       "    }\n",
       "\n",
       "    .dataframe tbody tr th {\n",
       "        vertical-align: top;\n",
       "    }\n",
       "\n",
       "    .dataframe thead th {\n",
       "        text-align: right;\n",
       "    }\n",
       "</style>\n",
       "<table border=\"1\" class=\"dataframe\">\n",
       "  <thead>\n",
       "    <tr style=\"text-align: right;\">\n",
       "      <th></th>\n",
       "      <th>release_year</th>\n",
       "      <th>Number of Movies</th>\n",
       "    </tr>\n",
       "  </thead>\n",
       "  <tbody>\n",
       "    <tr>\n",
       "      <th>0</th>\n",
       "      <td>1995</td>\n",
       "      <td>70</td>\n",
       "    </tr>\n",
       "    <tr>\n",
       "      <th>1</th>\n",
       "      <td>1996</td>\n",
       "      <td>97</td>\n",
       "    </tr>\n",
       "    <tr>\n",
       "      <th>2</th>\n",
       "      <td>1997</td>\n",
       "      <td>112</td>\n",
       "    </tr>\n",
       "    <tr>\n",
       "      <th>3</th>\n",
       "      <td>1998</td>\n",
       "      <td>133</td>\n",
       "    </tr>\n",
       "    <tr>\n",
       "      <th>4</th>\n",
       "      <td>1999</td>\n",
       "      <td>171</td>\n",
       "    </tr>\n",
       "    <tr>\n",
       "      <th>5</th>\n",
       "      <td>2000</td>\n",
       "      <td>166</td>\n",
       "    </tr>\n",
       "    <tr>\n",
       "      <th>6</th>\n",
       "      <td>2001</td>\n",
       "      <td>183</td>\n",
       "    </tr>\n",
       "    <tr>\n",
       "      <th>7</th>\n",
       "      <td>2002</td>\n",
       "      <td>203</td>\n",
       "    </tr>\n",
       "    <tr>\n",
       "      <th>8</th>\n",
       "      <td>2003</td>\n",
       "      <td>169</td>\n",
       "    </tr>\n",
       "    <tr>\n",
       "      <th>9</th>\n",
       "      <td>2004</td>\n",
       "      <td>204</td>\n",
       "    </tr>\n",
       "    <tr>\n",
       "      <th>10</th>\n",
       "      <td>2005</td>\n",
       "      <td>217</td>\n",
       "    </tr>\n",
       "    <tr>\n",
       "      <th>11</th>\n",
       "      <td>2006</td>\n",
       "      <td>237</td>\n",
       "    </tr>\n",
       "    <tr>\n",
       "      <th>12</th>\n",
       "      <td>2007</td>\n",
       "      <td>195</td>\n",
       "    </tr>\n",
       "    <tr>\n",
       "      <th>13</th>\n",
       "      <td>2008</td>\n",
       "      <td>227</td>\n",
       "    </tr>\n",
       "    <tr>\n",
       "      <th>14</th>\n",
       "      <td>2009</td>\n",
       "      <td>247</td>\n",
       "    </tr>\n",
       "    <tr>\n",
       "      <th>15</th>\n",
       "      <td>2010</td>\n",
       "      <td>225</td>\n",
       "    </tr>\n",
       "    <tr>\n",
       "      <th>16</th>\n",
       "      <td>2011</td>\n",
       "      <td>223</td>\n",
       "    </tr>\n",
       "    <tr>\n",
       "      <th>17</th>\n",
       "      <td>2012</td>\n",
       "      <td>208</td>\n",
       "    </tr>\n",
       "    <tr>\n",
       "      <th>18</th>\n",
       "      <td>2013</td>\n",
       "      <td>231</td>\n",
       "    </tr>\n",
       "    <tr>\n",
       "      <th>19</th>\n",
       "      <td>2014</td>\n",
       "      <td>238</td>\n",
       "    </tr>\n",
       "    <tr>\n",
       "      <th>20</th>\n",
       "      <td>2015</td>\n",
       "      <td>216</td>\n",
       "    </tr>\n",
       "    <tr>\n",
       "      <th>21</th>\n",
       "      <td>2016</td>\n",
       "      <td>104</td>\n",
       "    </tr>\n",
       "  </tbody>\n",
       "</table>\n",
       "</div>"
      ],
      "text/plain": [
       "   release_year  Number of Movies\n",
       "0          1995                70\n",
       "1          1996                97\n",
       "2          1997               112\n",
       "3          1998               133\n",
       "4          1999               171\n",
       "5          2000               166\n",
       "6          2001               183\n",
       "7          2002               203\n",
       "8          2003               169\n",
       "9          2004               204\n",
       "10         2005               217\n",
       "11         2006               237\n",
       "12         2007               195\n",
       "13         2008               227\n",
       "14         2009               247\n",
       "15         2010               225\n",
       "16         2011               223\n",
       "17         2012               208\n",
       "18         2013               231\n",
       "19         2014               238\n",
       "20         2015               216\n",
       "21         2016               104"
      ]
     },
     "execution_count": 85,
     "metadata": {},
     "output_type": "execute_result"
    }
   ],
   "source": [
    "#Create another column for year since release date is in this format \"2009-12-10\" and I need the year \n",
    "df['release_year'] = df.release_date.str[:4]\n",
    "\n",
    "movies = df.copy()\n",
    "filteredmovies = movies[(movies['release_year']>= \"1995\") & (movies['release_year'] <= \"2016\")]\n",
    "counted = filteredmovies.groupby('release_year').count()['id'].reset_index(name=\"Number of Movies\")\n",
    "counted"
   ]
  },
  {
   "cell_type": "code",
   "execution_count": 57,
   "metadata": {},
   "outputs": [
    {
     "data": {
      "text/plain": [
       "14    2009\n",
       "Name: release_year, dtype: object"
      ]
     },
     "execution_count": 57,
     "metadata": {},
     "output_type": "execute_result"
    }
   ],
   "source": [
    "#Use the Max function\n",
    "highest_num = counted.max()\n",
    "year = counted[counted[\"Number of Movies\"] == 247]\n",
    "year['release_year']"
   ]
  },
  {
   "cell_type": "markdown",
   "metadata": {},
   "source": [
    "<b>2) How many movies in the Adventure genre is released between 2014 and 2017? </b>"
   ]
  },
  {
   "cell_type": "code",
   "execution_count": 89,
   "metadata": {},
   "outputs": [
    {
     "name": "stdout",
     "output_type": "stream",
     "text": [
      "There are 95 adventure movies between 2014 and 2017.\n"
     ]
    }
   ],
   "source": [
    "advdf = df.copy()\n",
    "data = advdf.to_dict('records')\n",
    "\n",
    "count = 0\n",
    "for item in data:\n",
    "    genrelist = item['genres']\n",
    "    year = (item['release_year'])\n",
    "    \n",
    "    if year >= \"2014\" and year <= \"2017\":\n",
    "        for genre in genrelist:\n",
    "            names = genre['name']\n",
    "            if names == \"Adventure\":\n",
    "                count += 1 \n",
    "    \n",
    "                \n",
    "print(\"There are \" + str(count) +\" adventure movies between 2014 and 2017.\")\n"
   ]
  },
  {
   "cell_type": "markdown",
   "metadata": {},
   "source": [
    "<b>3) What are the top 10 popular movies (based on popularity score) in 2015? </b>"
   ]
  },
  {
   "cell_type": "code",
   "execution_count": 95,
   "metadata": {},
   "outputs": [
    {
     "name": "stdout",
     "output_type": "stream",
     "text": [
      "Rank 1: The movie title is Minions and its popularity is 875.581305\n",
      "Rank 2: The movie title is Interstellar and its popularity is 724.247784\n",
      "Rank 3: The movie title is Deadpool and its popularity is 514.569956\n",
      "Rank 4: The movie title is Guardians of the Galaxy and its popularity is 481.098624\n",
      "Rank 5: The movie title is Mad Max: Fury Road and its popularity is 434.278564\n",
      "Rank 6: The movie title is Jurassic World and its popularity is 418.708552\n",
      "Rank 7: The movie title is Pirates of the Caribbean: The Curse of the Black Pearl and its popularity is 271.972889\n",
      "Rank 8: The movie title is Dawn of the Planet of the Apes and its popularity is 243.791743\n",
      "Rank 9: The movie title is The Hunger Games: Mockingjay - Part 1 and its popularity is 206.227151\n",
      "Rank 10: The movie title is Big Hero 6 and its popularity is 203.73459\n"
     ]
    }
   ],
   "source": [
    "pop = df.copy()\n",
    "data = pop.to_dict('records')\n",
    "adict = {}\n",
    "\n",
    "for item in data:\n",
    "    popularity = item['popularity']\n",
    "    movietitle = item['original_title']\n",
    "    adict[movietitle] = popularity\n",
    "\n",
    "rank = 1\n",
    "for title, popularity in sorted(adict.iteritems(), key=lambda (k, v): (-v, k))[:10]:\n",
    "        print (\"Rank \"+str(rank)+\": \" + \"The movie title is \" + str(title) +\" and its popularity is \" + str(popularity))\n",
    "        rank += 1 \n",
    "\n",
    "\n",
    "    \n",
    "    "
   ]
  },
  {
   "cell_type": "markdown",
   "metadata": {},
   "source": [
    "<b> 4) What is the mean budget for Comedy movies in 2016? </b>"
   ]
  },
  {
   "cell_type": "code",
   "execution_count": 117,
   "metadata": {},
   "outputs": [
    {
     "name": "stdout",
     "output_type": "stream",
     "text": [
      "There were 26 Comedy movies in 2016.\n",
      "\n",
      "The mean budget is $39519230\n"
     ]
    }
   ],
   "source": [
    "dfbudget = df.copy()\n",
    "data = dfbudget.to_dict('records')\n",
    "\n",
    "count = 0\n",
    "totalbudget = 0\n",
    "\n",
    "for item in data:\n",
    "    budget = item['budget']\n",
    "    genrelist = item['genres']\n",
    "    year = (item['release_year'])\n",
    "    \n",
    "    if year == \"2016\":\n",
    "        for genre in genrelist:\n",
    "            names = genre['name']\n",
    "            if names == \"Comedy\":\n",
    "                count += 1 \n",
    "                totalbudget += budget\n",
    "            \n",
    "meanbudget = totalbudget/count\n",
    "\n",
    "print(\"There were \" + str(count) +\" Comedy movies in 2016.\")\n",
    "print(\"\\nThe mean budget is $\" + str(meanbudget))\n",
    "    \n"
   ]
  },
  {
   "cell_type": "markdown",
   "metadata": {},
   "source": [
    "<b>5) How many movies in 2015 and 2016 have a runtime between 90 and 120 minutes? </b>"
   ]
  },
  {
   "cell_type": "code",
   "execution_count": 139,
   "metadata": {},
   "outputs": [
    {
     "data": {
      "text/plain": [
       "release_year\n",
       "2015    132\n",
       "2016     75\n",
       "Name: id, dtype: int64"
      ]
     },
     "execution_count": 139,
     "metadata": {},
     "output_type": "execute_result"
    }
   ],
   "source": [
    "dfrun = df.copy()\n",
    "dfrun['runtime']\n",
    "#records for 2015 and 2016\n",
    "yearfilter = dfrun[(dfrun['release_year'] == \"2015\") | (dfrun['release_year'] == \"2016\")]\n",
    "runfilter = yearfilter[(yearfilter['runtime']>=90) & (yearfilter['runtime']<=120)]\n",
    "runfilter.groupby('release_year')['id'].count()"
   ]
  },
  {
   "cell_type": "code",
   "execution_count": 141,
   "metadata": {},
   "outputs": [
    {
     "name": "stdout",
     "output_type": "stream",
     "text": [
      "There were 207 movies in 2015 and 2016 that have a runtime between 90 and 120 minutes\n"
     ]
    }
   ],
   "source": [
    "total = runfilter.count()['id']\n",
    "print(\"There were \" + str(total) +\" movies in 2015 and 2016 that have a runtime between 90 and 120 minutes\")"
   ]
  },
  {
   "cell_type": "markdown",
   "metadata": {},
   "source": [
    "<b> 6) Is there a relationship between popularity and revenue? </b>"
   ]
  },
  {
   "cell_type": "code",
   "execution_count": 184,
   "metadata": {},
   "outputs": [
    {
     "data": {
      "image/png": "[encoded data removed]",
      "text/plain": [
       "<Figure size 432x288 with 1 Axes>"
      ]
     },
     "metadata": {
      "needs_background": "light"
     },
     "output_type": "display_data"
    }
   ],
   "source": [
    "import matplotlib.pyplot as plt\n",
    "import numpy as np \n",
    "import seaborn as sns\n",
    "from scipy.stats import linregress\n",
    "\n",
    "data = df.copy()\n",
    "x = data['revenue']/1000000\n",
    "y = data['budget']/1000000\n",
    "\n",
    "stats = linregress(x, y)\n",
    "\n",
    "m = stats.slope\n",
    "b = stats.intercept\n",
    "\n",
    "plt.scatter(x,y,c=colors,alpha=0.5)\n",
    "plt.plot(x, m * x + b, color=\"blue\")\n",
    "\n",
    "plt.title('Scatter Plot')\n",
    "plt.xlabel('Budget (in Millions)')\n",
    "plt.ylabel('Revenue (in Millions)')\n",
    "plt.show()\n",
    "\n"
   ]
  },
  {
   "cell_type": "markdown",
   "metadata": {},
   "source": [
    "# Key Takeaways and Learning points"
   ]
  },
  {
   "cell_type": "markdown",
   "metadata": {},
   "source": [
    "1.Always check the data type. I didn't know that Year was a string and I should have converted it into an integer. \n",
    "<br> \n",
    "\n",
    "2.I learned about JSON in the 'Software Project Management' class last year. I'm not sure how to work with JSON \n",
    "   columns in Python. Found this tutorial on how to load data with JSON fields:\n",
    "   https://www.kaggle.com/sohier/getting-imdb-kernels-working-with-tmdb-data/\n",
    "   \n",
    "   \n",
    "<br>\n",
    "3.As for the scatterplot, I feel that it would be good to find out R. There is a positive correlation between budget and revenue. However, I need to look at R to determine how strong it is. This is something that I'm planning to learn more about. The regression code for the scatterplot was taken from:\n",
    "https://ourcodingclub.github.io/2018/04/18/pandas-python-intro.html \n",
    "\n",
    "<br>\n",
    "\n",
    "4.As for the analytic questions, I think that it would be good to come up with something that involves 3 variables.\n",
    "\n",
    "<br>\n",
    "5.I looked at some kernels on Kaggle. I realise that there are many ways to go about cleaning the data. For instance, \"genres\" is one of those JSON fields in the CSV file. The format is as follows: \n",
    "\n",
    "[[{\"id\": 28, \"name\": \"Action\"}, {\"id\": 12, \"name\": \"Adventure\"}].\n",
    "\n",
    "I noticed that someone extracted all the genre names and used \"|\" as a delimiter. The id was omitted. I find it interesting.\n",
    "\n",
    "<br>\n",
    "\n",
    "\n"
   ]
  },
  {
   "cell_type": "code",
   "execution_count": null,
   "metadata": {},
   "outputs": [],
   "source": []
  }
 ],
 "metadata": {
  "kernelspec": {
   "display_name": "Python 2",
   "language": "python",
   "name": "python2"
  }
 },
 "nbformat": 4,
 "nbformat_minor": 2
}
