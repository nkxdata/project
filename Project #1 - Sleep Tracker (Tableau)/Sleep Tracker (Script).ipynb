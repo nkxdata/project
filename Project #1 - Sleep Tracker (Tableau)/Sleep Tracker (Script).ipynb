{
 "cells": [
  {
   "cell_type": "code",
   "execution_count": 24,
   "metadata": {},
   "outputs": [
    {
     "name": "stdout",
     "output_type": "stream",
     "text": [
      "Requirement already satisfied: gspread in c:\\users\\user\\anaconda2\\lib\\site-packages (3.1.0)\n",
      "Requirement already satisfied: oauth2client in c:\\users\\user\\anaconda2\\lib\\site-packages (4.1.3)\n",
      "Requirement already satisfied: df2gspread in c:\\users\\user\\anaconda2\\lib\\site-packages (1.0.4)\n",
      "Requirement already satisfied: requests>=2.2.1 in c:\\users\\user\\anaconda2\\lib\\site-packages (from gspread) (2.19.1)\n",
      "Requirement already satisfied: httplib2>=0.9.1 in c:\\users\\user\\anaconda2\\lib\\site-packages (from oauth2client) (0.13.0)\n",
      "Requirement already satisfied: six>=1.6.1 in c:\\users\\user\\anaconda2\\lib\\site-packages (from oauth2client) (1.11.0)\n",
      "Requirement already satisfied: rsa>=3.1.4 in c:\\users\\user\\anaconda2\\lib\\site-packages (from oauth2client) (4.0)\n",
      "Requirement already satisfied: pyasn1-modules>=0.0.5 in c:\\users\\user\\anaconda2\\lib\\site-packages (from oauth2client) (0.2.2)\n",
      "Requirement already satisfied: pyasn1>=0.1.7 in c:\\users\\user\\anaconda2\\lib\\site-packages (from oauth2client) (0.4.4)\n",
      "Requirement already satisfied: pandas in c:\\users\\user\\anaconda2\\lib\\site-packages (from df2gspread) (0.23.4)\n",
      "Requirement already satisfied: argparse>=1.3.0 in c:\\users\\user\\anaconda2\\lib\\site-packages (from df2gspread) (1.4.0)\n",
      "Requirement already satisfied: google-api-python-client==1.6.7 in c:\\users\\user\\anaconda2\\lib\\site-packages (from df2gspread) (1.6.7)\n",
      "Requirement already satisfied: idna<2.8,>=2.5 in c:\\users\\user\\anaconda2\\lib\\site-packages (from requests>=2.2.1->gspread) (2.7)\n",
      "Requirement already satisfied: certifi>=2017.4.17 in c:\\users\\user\\anaconda2\\lib\\site-packages (from requests>=2.2.1->gspread) (2019.3.9)\n",
      "Requirement already satisfied: urllib3<1.24,>=1.21.1 in c:\\users\\user\\anaconda2\\lib\\site-packages (from requests>=2.2.1->gspread) (1.23)\n",
      "Requirement already satisfied: chardet<3.1.0,>=3.0.2 in c:\\users\\user\\anaconda2\\lib\\site-packages (from requests>=2.2.1->gspread) (3.0.4)\n",
      "Requirement already satisfied: python-dateutil>=2.5.0 in c:\\users\\user\\anaconda2\\lib\\site-packages (from pandas->df2gspread) (2.7.3)\n",
      "Requirement already satisfied: pytz>=2011k in c:\\users\\user\\anaconda2\\lib\\site-packages (from pandas->df2gspread) (2018.5)\n",
      "Requirement already satisfied: numpy>=1.9.0 in c:\\users\\user\\anaconda2\\lib\\site-packages (from pandas->df2gspread) (1.15.1)\n",
      "Requirement already satisfied: uritemplate<4dev,>=3.0.0 in c:\\users\\user\\anaconda2\\lib\\site-packages (from google-api-python-client==1.6.7->df2gspread) (3.0.0)\n"
     ]
    },
    {
     "name": "stderr",
     "output_type": "stream",
     "text": [
      "DEPRECATION: Python 2.7 will reach the end of its life on January 1st, 2020. Please upgrade your Python as Python 2.7 won't be maintained after that date. A future version of pip will drop support for Python 2.7.\n",
      "You are using pip version 19.0.3, however version 19.2.1 is available.\n",
      "You should consider upgrading via the 'python -m pip install --upgrade pip' command.\n"
     ]
    }
   ],
   "source": [
    "#Install Gspread\n",
    "!pip install gspread oauth2client df2gspread"
   ]
  },
  {
   "cell_type": "code",
   "execution_count": 1,
   "metadata": {},
   "outputs": [],
   "source": [
    "import gspread\n",
    "from oauth2client.service_account import ServiceAccountCredentials\n",
    "\n",
    "import pandas as pd"
   ]
  },
  {
   "cell_type": "code",
   "execution_count": 2,
   "metadata": {},
   "outputs": [],
   "source": [
    "#Connecting to Google Sheets\n",
    "\n",
    "scope = ['https://spreadsheets.google.com/feeds']\n",
    "credentials = ServiceAccountCredentials.from_json_keyfile_name('./service_account_GS.json', scope)\n",
    "gc = gspread.authorize(credentials)"
   ]
  },
  {
   "cell_type": "code",
   "execution_count": 3,
   "metadata": {},
   "outputs": [],
   "source": [
    "spreadsheet_key = '##insert spreadsheet key here##'\n",
    "book = gc.open_by_key(spreadsheet_key)\n",
    "worksheet = book.worksheet(\"Raw_Python\")\n",
    "table = worksheet.get_all_values()"
   ]
  },
  {
   "cell_type": "code",
   "execution_count": 4,
   "metadata": {},
   "outputs": [],
   "source": [
    "#Creating a dataframe, transpose columns into rows, rename columns\n",
    "\n",
    "df = pd.DataFrame(table[1:], columns=table[0])\n",
    "new_df = df.set_index(['Date','Day','Sleep Time','Sleep Duration']).stack().reset_index()\n",
    "new_df.rename(columns={'level_4' : 'Time'}, inplace=True)\n",
    "new_df.rename(columns={0:'Activity'},inplace=True)\n",
    "# new_df"
   ]
  },
  {
   "cell_type": "code",
   "execution_count": 5,
   "metadata": {},
   "outputs": [
    {
     "data": {
      "text/plain": [
       "<Worksheet u'DataSource_Tableau' id:361176883>"
      ]
     },
     "execution_count": 5,
     "metadata": {},
     "output_type": "execute_result"
    }
   ],
   "source": [
    "#Send data to Google Sheets\n",
    "\n",
    "from df2gspread import df2gspread as d2g\n",
    "wks_name = 'DataSource_Tableau'\n",
    "d2g.upload(new_df, spreadsheet_key, wks_name, credentials=credentials, row_names=True)"
   ]
  },
  {
   "cell_type": "code",
   "execution_count": null,
   "metadata": {},
   "outputs": [],
   "source": []
  }
 ],
 "metadata": {
  "kernelspec": {
   "display_name": "Python 2",
   "language": "python",
   "name": "python2"
  },
  "language_info": {
   "codemirror_mode": {
    "name": "ipython",
    "version": 2
   },
   "file_extension": ".py",
   "mimetype": "text/x-python",
   "name": "python",
   "nbconvert_exporter": "python",
   "pygments_lexer": "ipython2",
   "version": "2.7.15"
  }
 },
 "nbformat": 4,
 "nbformat_minor": 2
}
