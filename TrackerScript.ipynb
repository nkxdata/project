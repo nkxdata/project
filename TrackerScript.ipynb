{
 "cells": [
  {
   "cell_type": "code",
   "execution_count": 122,
   "metadata": {},
   "outputs": [
    {
     "name": "stdout",
     "output_type": "stream",
     "text": [
      "Requirement already satisfied: gspread in c:\\users\\user\\anaconda2\\lib\\site-packages (3.1.0)\n",
      "Requirement already satisfied: oauth2client in c:\\users\\user\\anaconda2\\lib\\site-packages (4.1.3)\n",
      "Requirement already satisfied: df2gspread in c:\\users\\user\\anaconda2\\lib\\site-packages (1.0.4)\n",
      "Requirement already satisfied: requests>=2.2.1 in c:\\users\\user\\anaconda2\\lib\\site-packages (from gspread) (2.19.1)\n",
      "Requirement already satisfied: httplib2>=0.9.1 in c:\\users\\user\\anaconda2\\lib\\site-packages (from oauth2client) (0.13.0)\n",
      "Requirement already satisfied: six>=1.6.1 in c:\\users\\user\\anaconda2\\lib\\site-packages (from oauth2client) (1.11.0)\n",
      "Requirement already satisfied: rsa>=3.1.4 in c:\\users\\user\\anaconda2\\lib\\site-packages (from oauth2client) (4.0)\n",
      "Requirement already satisfied: pyasn1-modules>=0.0.5 in c:\\users\\user\\anaconda2\\lib\\site-packages (from oauth2client) (0.2.2)\n",
      "Requirement already satisfied: pyasn1>=0.1.7 in c:\\users\\user\\anaconda2\\lib\\site-packages (from oauth2client) (0.4.4)\n",
      "Requirement already satisfied: pandas in c:\\users\\user\\anaconda2\\lib\\site-packages (from df2gspread) (0.23.4)\n",
      "Requirement already satisfied: argparse>=1.3.0 in c:\\users\\user\\anaconda2\\lib\\site-packages (from df2gspread) (1.4.0)\n",
      "Requirement already satisfied: google-api-python-client==1.6.7 in c:\\users\\user\\anaconda2\\lib\\site-packages (from df2gspread) (1.6.7)\n",
      "Requirement already satisfied: idna<2.8,>=2.5 in c:\\users\\user\\anaconda2\\lib\\site-packages (from requests>=2.2.1->gspread) (2.7)\n",
      "Requirement already satisfied: certifi>=2017.4.17 in c:\\users\\user\\anaconda2\\lib\\site-packages (from requests>=2.2.1->gspread) (2019.3.9)\n",
      "Requirement already satisfied: urllib3<1.24,>=1.21.1 in c:\\users\\user\\anaconda2\\lib\\site-packages (from requests>=2.2.1->gspread) (1.23)\n",
      "Requirement already satisfied: chardet<3.1.0,>=3.0.2 in c:\\users\\user\\anaconda2\\lib\\site-packages (from requests>=2.2.1->gspread) (3.0.4)\n",
      "Requirement already satisfied: python-dateutil>=2.5.0 in c:\\users\\user\\anaconda2\\lib\\site-packages (from pandas->df2gspread) (2.7.3)\n",
      "Requirement already satisfied: pytz>=2011k in c:\\users\\user\\anaconda2\\lib\\site-packages (from pandas->df2gspread) (2018.5)\n",
      "Requirement already satisfied: numpy>=1.9.0 in c:\\users\\user\\anaconda2\\lib\\site-packages (from pandas->df2gspread) (1.15.1)\n",
      "Requirement already satisfied: uritemplate<4dev,>=3.0.0 in c:\\users\\user\\anaconda2\\lib\\site-packages (from google-api-python-client==1.6.7->df2gspread) (3.0.0)\n"
     ]
    },
    {
     "name": "stderr",
     "output_type": "stream",
     "text": [
      "DEPRECATION: Python 2.7 will reach the end of its life on January 1st, 2020. Please upgrade your Python as Python 2.7 won't be maintained after that date. A future version of pip will drop support for Python 2.7.\n",
      "You are using pip version 19.0.3, however version 19.1.1 is available.\n",
      "You should consider upgrading via the 'python -m pip install --upgrade pip' command.\n"
     ]
    }
   ],
   "source": [
    "#Install Gspread\n",
    "!pip install gspread oauth2client df2gspread"
   ]
  },
  {
   "cell_type": "code",
   "execution_count": 129,
   "metadata": {},
   "outputs": [],
   "source": [
    "#Connecting to Google Sheets\n",
    "\n",
    "scope = ['https://spreadsheets.google.com/feeds']\n",
    "credentials = ServiceAccountCredentials.from_json_keyfile_name('./service_account_GS.json', scope)\n",
    "gc = gspread.authorize(credentials)"
   ]
  },
  {
   "cell_type": "code",
   "execution_count": 130,
   "metadata": {},
   "outputs": [],
   "source": [
    "spreadsheet_key = '1FC0jwG4WjZgdVtlzbet6dof2JU2mmr0JEqWPBg9L5xA'\n",
    "book = gc.open_by_key(spreadsheet_key)\n",
    "worksheet = book.worksheet(\"Raw_Python\")\n",
    "table = worksheet.get_all_values()"
   ]
  },
  {
   "cell_type": "code",
   "execution_count": 131,
   "metadata": {},
   "outputs": [],
   "source": [
    "#Creating a dataframe, transpose columns into rows, rename columns\n",
    "\n",
    "df = pd.DataFrame(table[1:], columns=table[0])\n",
    "new_df = df.set_index(['Date','Day']).stack().reset_index()\n",
    "new_df.rename(columns={'level_2' : 'Time'}, inplace=True)\n",
    "new_df.rename(columns={0:'Activity'},inplace=True)\n",
    "# new_df"
   ]
  },
  {
   "cell_type": "code",
   "execution_count": 132,
   "metadata": {},
   "outputs": [
    {
     "data": {
      "text/plain": [
       "<Worksheet u'DataSource_Tableau' id:361176883>"
      ]
     },
     "execution_count": 132,
     "metadata": {},
     "output_type": "execute_result"
    }
   ],
   "source": [
    "#Send data to Google Sheets\n",
    "\n",
    "from df2gspread import df2gspread as d2g\n",
    "wks_name = 'DataSource_Tableau'\n",
    "d2g.upload(new_df, spreadsheet_key, wks_name, credentials=credentials, row_names=True)"
   ]
  },
  {
   "cell_type": "code",
   "execution_count": 134,
   "metadata": {},
   "outputs": [
    {
     "name": "stdout",
     "output_type": "stream",
     "text": [
      "Collecting jupyter-cron\n",
      "  Downloading https://files.pythonhosted.org/packages/ee/6e/5b722323fc269b875cb4a3f7330a05d8ba113b9f334b0859c127d8f5ba4b/jupyter-cron-0.1.6.tar.gz\n",
      "Collecting python-daemon (from jupyter-cron)\n",
      "  Downloading https://files.pythonhosted.org/packages/e6/44/6734382d1beb8704137ec94589e7d173a415f3396e34d020fb6b6271c2ff/python_daemon-2.2.3-py2.py3-none-any.whl\n",
      "Collecting schedule (from jupyter-cron)\n",
      "  Downloading https://files.pythonhosted.org/packages/57/22/3a709462eb02412bd1145f6e53604f36bba191e3e4e397bea4a718fec38c/schedule-0.6.0-py2.py3-none-any.whl\n",
      "Collecting lockfile>=0.10 (from python-daemon->jupyter-cron)\n",
      "  Downloading https://files.pythonhosted.org/packages/c8/22/9460e311f340cb62d26a38c419b1381b8593b0bb6b5d1f056938b086d362/lockfile-0.12.2-py2.py3-none-any.whl\n",
      "Requirement already satisfied: docutils in c:\\users\\user\\anaconda2\\lib\\site-packages (from python-daemon->jupyter-cron) (0.14)\n",
      "Requirement already satisfied: setuptools in c:\\users\\user\\anaconda2\\lib\\site-packages (from python-daemon->jupyter-cron) (40.2.0)\n",
      "Building wheels for collected packages: jupyter-cron\n",
      "  Building wheel for jupyter-cron (setup.py): started\n",
      "  Building wheel for jupyter-cron (setup.py): finished with status 'done'\n",
      "  Stored in directory: C:\\Users\\User\\AppData\\Local\\pip\\Cache\\wheels\\ff\\26\\a1\\4f91015c6ac2f4dba646a7781ac1f84fa1cd18d35587c0ad09\n",
      "Successfully built jupyter-cron\n",
      "Installing collected packages: lockfile, python-daemon, schedule, jupyter-cron\n",
      "Successfully installed jupyter-cron-0.1.6 lockfile-0.12.2 python-daemon-2.2.3 schedule-0.6.0\n"
     ]
    },
    {
     "name": "stderr",
     "output_type": "stream",
     "text": [
      "DEPRECATION: Python 2.7 will reach the end of its life on January 1st, 2020. Please upgrade your Python as Python 2.7 won't be maintained after that date. A future version of pip will drop support for Python 2.7.\n",
      "You are using pip version 19.0.3, however version 19.1.1 is available.\n",
      "You should consider upgrading via the 'python -m pip install --upgrade pip' command.\n"
     ]
    }
   ],
   "source": [
    "!pip install jupyter-cron"
   ]
  },
  {
   "cell_type": "code",
   "execution_count": 136,
   "metadata": {},
   "outputs": [
    {
     "name": "stdout",
     "output_type": "stream",
     "text": [
      "Collecting runipy\n",
      "  Downloading https://files.pythonhosted.org/packages/ab/b7/628258778b5b6da373dda3053241bf5f7d80ee65941ad3ad219fb3e9356f/runipy-0.1.5.tar.gz\n",
      "Requirement already satisfied: Jinja2>=2.7.2 in c:\\users\\user\\anaconda2\\lib\\site-packages (from runipy) (2.10)\n",
      "Requirement already satisfied: Pygments>=1.6 in c:\\users\\user\\anaconda2\\lib\\site-packages (from runipy) (2.2.0)\n",
      "Requirement already satisfied: ipython>=2.3.1 in c:\\users\\user\\anaconda2\\lib\\site-packages (from runipy) (5.8.0)\n",
      "Requirement already satisfied: pyzmq>=14.1.0 in c:\\users\\user\\anaconda2\\lib\\site-packages (from runipy) (17.1.2)\n",
      "Requirement already satisfied: ipykernel>=4.0.0 in c:\\users\\user\\anaconda2\\lib\\site-packages (from runipy) (4.10.0)\n",
      "Requirement already satisfied: nbconvert>=4.0.0 in c:\\users\\user\\anaconda2\\lib\\site-packages (from runipy) (5.4.0)\n",
      "Requirement already satisfied: nbformat>=4.0.0 in c:\\users\\user\\anaconda2\\lib\\site-packages (from runipy) (4.4.0)\n",
      "Requirement already satisfied: MarkupSafe>=0.23 in c:\\users\\user\\anaconda2\\lib\\site-packages (from Jinja2>=2.7.2->runipy) (1.0)\n",
      "Requirement already satisfied: prompt-toolkit<2.0.0,>=1.0.4 in c:\\users\\user\\anaconda2\\lib\\site-packages (from ipython>=2.3.1->runipy) (1.0.15)\n",
      "Requirement already satisfied: setuptools>=18.5 in c:\\users\\user\\anaconda2\\lib\\site-packages (from ipython>=2.3.1->runipy) (40.2.0)\n",
      "Requirement already satisfied: decorator in c:\\users\\user\\anaconda2\\lib\\site-packages (from ipython>=2.3.1->runipy) (4.3.0)\n",
      "Requirement already satisfied: pickleshare in c:\\users\\user\\anaconda2\\lib\\site-packages (from ipython>=2.3.1->runipy) (0.7.4)\n",
      "Requirement already satisfied: win-unicode-console>=0.5; sys_platform == \"win32\" and python_version < \"3.6\" in c:\\users\\user\\anaconda2\\lib\\site-packages (from ipython>=2.3.1->runipy) (0.5)\n",
      "Requirement already satisfied: pathlib2; python_version == \"2.7\" or python_version == \"3.3\" in c:\\users\\user\\anaconda2\\lib\\site-packages (from ipython>=2.3.1->runipy) (2.3.2)\n",
      "Requirement already satisfied: backports.shutil-get-terminal-size; python_version == \"2.7\" in c:\\users\\user\\anaconda2\\lib\\site-packages (from ipython>=2.3.1->runipy) (1.0.0)\n",
      "Requirement already satisfied: colorama; sys_platform == \"win32\" in c:\\users\\user\\anaconda2\\lib\\site-packages (from ipython>=2.3.1->runipy) (0.3.9)\n",
      "Requirement already satisfied: simplegeneric>0.8 in c:\\users\\user\\anaconda2\\lib\\site-packages (from ipython>=2.3.1->runipy) (0.8.1)\n",
      "Requirement already satisfied: traitlets>=4.2 in c:\\users\\user\\anaconda2\\lib\\site-packages (from ipython>=2.3.1->runipy) (4.3.2)\n",
      "Requirement already satisfied: jupyter_client in c:\\users\\user\\anaconda2\\lib\\site-packages (from ipykernel>=4.0.0->runipy) (5.2.3)\n",
      "Requirement already satisfied: tornado>=4.0 in c:\\users\\user\\anaconda2\\lib\\site-packages (from ipykernel>=4.0.0->runipy) (5.1)\n",
      "Requirement already satisfied: mistune>=0.8.1 in c:\\users\\user\\anaconda2\\lib\\site-packages (from nbconvert>=4.0.0->runipy) (0.8.3)\n",
      "Requirement already satisfied: jupyter_core in c:\\users\\user\\anaconda2\\lib\\site-packages (from nbconvert>=4.0.0->runipy) (4.4.0)\n",
      "Requirement already satisfied: entrypoints>=0.2.2 in c:\\users\\user\\anaconda2\\lib\\site-packages (from nbconvert>=4.0.0->runipy) (0.2.3)\n",
      "Requirement already satisfied: bleach in c:\\users\\user\\anaconda2\\lib\\site-packages (from nbconvert>=4.0.0->runipy) (2.1.4)\n",
      "Requirement already satisfied: pandocfilters>=1.4.1 in c:\\users\\user\\anaconda2\\lib\\site-packages (from nbconvert>=4.0.0->runipy) (1.4.2)\n",
      "Requirement already satisfied: testpath in c:\\users\\user\\anaconda2\\lib\\site-packages (from nbconvert>=4.0.0->runipy) (0.3.1)\n",
      "Requirement already satisfied: defusedxml in c:\\users\\user\\anaconda2\\lib\\site-packages (from nbconvert>=4.0.0->runipy) (0.5.0)\n",
      "Requirement already satisfied: ipython_genutils in c:\\users\\user\\anaconda2\\lib\\site-packages (from nbformat>=4.0.0->runipy) (0.2.0)\n",
      "Requirement already satisfied: jsonschema!=2.5.0,>=2.4 in c:\\users\\user\\anaconda2\\lib\\site-packages (from nbformat>=4.0.0->runipy) (2.6.0)\n",
      "Requirement already satisfied: six>=1.9.0 in c:\\users\\user\\anaconda2\\lib\\site-packages (from prompt-toolkit<2.0.0,>=1.0.4->ipython>=2.3.1->runipy) (1.11.0)\n",
      "Requirement already satisfied: wcwidth in c:\\users\\user\\anaconda2\\lib\\site-packages (from prompt-toolkit<2.0.0,>=1.0.4->ipython>=2.3.1->runipy) (0.1.7)\n",
      "Requirement already satisfied: scandir in c:\\users\\user\\anaconda2\\lib\\site-packages (from pathlib2; python_version == \"2.7\" or python_version == \"3.3\"->ipython>=2.3.1->runipy) (1.9.0)\n",
      "Requirement already satisfied: enum34 in c:\\users\\user\\anaconda2\\lib\\site-packages (from traitlets>=4.2->ipython>=2.3.1->runipy) (1.1.6)\n",
      "Requirement already satisfied: python-dateutil>=2.1 in c:\\users\\user\\anaconda2\\lib\\site-packages (from jupyter_client->ipykernel>=4.0.0->runipy) (2.7.3)\n",
      "Requirement already satisfied: singledispatch in c:\\users\\user\\anaconda2\\lib\\site-packages (from tornado>=4.0->ipykernel>=4.0.0->runipy) (3.4.0.3)\n",
      "Requirement already satisfied: futures in c:\\users\\user\\anaconda2\\lib\\site-packages (from tornado>=4.0->ipykernel>=4.0.0->runipy) (3.2.0)\n",
      "Requirement already satisfied: backports-abc>=0.4 in c:\\users\\user\\anaconda2\\lib\\site-packages (from tornado>=4.0->ipykernel>=4.0.0->runipy) (0.5)\n",
      "Requirement already satisfied: html5lib!=1.0b1,!=1.0b2,!=1.0b3,!=1.0b4,!=1.0b5,!=1.0b6,!=1.0b7,!=1.0b8,>=0.99999999pre in c:\\users\\user\\anaconda2\\lib\\site-packages (from bleach->nbconvert>=4.0.0->runipy) (1.0.1)\n",
      "Requirement already satisfied: functools32 in c:\\users\\user\\anaconda2\\lib\\site-packages (from jsonschema!=2.5.0,>=2.4->nbformat>=4.0.0->runipy) (3.2.3.post2)\n",
      "Requirement already satisfied: webencodings in c:\\users\\user\\anaconda2\\lib\\site-packages (from html5lib!=1.0b1,!=1.0b2,!=1.0b3,!=1.0b4,!=1.0b5,!=1.0b6,!=1.0b7,!=1.0b8,>=0.99999999pre->bleach->nbconvert>=4.0.0->runipy) (0.5.1)\n",
      "Building wheels for collected packages: runipy\n",
      "  Building wheel for runipy (setup.py): started\n",
      "  Building wheel for runipy (setup.py): finished with status 'done'\n",
      "  Stored in directory: C:\\Users\\User\\AppData\\Local\\pip\\Cache\\wheels\\38\\80\\04\\b2dbcd5df8afdb529918d2021094048a5917b6e76a6f7b452d\n",
      "Successfully built runipy\n",
      "Installing collected packages: runipy\n",
      "Successfully installed runipy-0.1.5\n"
     ]
    },
    {
     "name": "stderr",
     "output_type": "stream",
     "text": [
      "DEPRECATION: Python 2.7 will reach the end of its life on January 1st, 2020. Please upgrade your Python as Python 2.7 won't be maintained after that date. A future version of pip will drop support for Python 2.7.\n",
      "You are using pip version 19.0.3, however version 19.1.1 is available.\n",
      "You should consider upgrading via the 'python -m pip install --upgrade pip' command.\n"
     ]
    }
   ],
   "source": [
    "!pip install runipy"
   ]
  },
  {
   "cell_type": "code",
   "execution_count": null,
   "metadata": {},
   "outputs": [],
   "source": []
  }
 ],
 "metadata": {
  "kernelspec": {
   "display_name": "Python 2",
   "language": "python",
   "name": "python2"
  },
  "language_info": {
   "codemirror_mode": {
    "name": "ipython",
    "version": 2
   },
   "file_extension": ".py",
   "mimetype": "text/x-python",
   "name": "python",
   "nbconvert_exporter": "python",
   "pygments_lexer": "ipython2",
   "version": "2.7.15"
  }
 },
 "nbformat": 4,
 "nbformat_minor": 2
}
